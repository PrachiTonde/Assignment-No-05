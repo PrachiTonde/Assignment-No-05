{
  "nbformat": 4,
  "nbformat_minor": 0,
  "metadata": {
    "colab": {
      "provenance": []
    },
    "kernelspec": {
      "name": "python3",
      "display_name": "Python 3"
    },
    "language_info": {
      "name": "python"
    }
  },
  "cells": [
    {
      "cell_type": "code",
      "execution_count": null,
      "metadata": {
        "colab": {
          "base_uri": "https://localhost:8080/"
        },
        "id": "H_I0VENIHhM2",
        "outputId": "ea24e28e-407e-48fa-e042-5316277f9776"
      },
      "outputs": [
        {
          "output_type": "stream",
          "name": "stdout",
          "text": [
            "Enter the value of initial Infiltration Rate:6\n",
            "Enter the value of Final infiltration Rate:1.2\n",
            "Enter the value of Time:8\n",
            "Enter the value of Decay Coefficient:0.888\n",
            "The value of Total Infiltration is: 15.005405405405405\n"
          ]
        }
      ],
      "source": [
        "# Calculation of total Infiltration by Horton's Equation\n",
        "fo = float(input(\"Enter the value of initial Infiltration Rate:\"))\n",
        "fc= float (input(\"Enter the value of Final infiltration Rate:\"))1\n",
        "t= int(input(\"Enter the value of Time:\"))\n",
        "kh= float(input(\"Enter the value of Decay Coefficient:\"))\n",
        "# The total Infiltration is given by:\n",
        "Fp= fc* t+ (fo -fc)/kh\n",
        "print (\"The value of Total Infiltration is:\", Fp)"
      ]
    }
  ]
}